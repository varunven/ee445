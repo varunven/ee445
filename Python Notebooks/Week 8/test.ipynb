{
 "cells": [
  {
   "cell_type": "code",
   "execution_count": 6,
   "metadata": {},
   "outputs": [],
   "source": [
    "import sys\n",
    "\n",
    "import numpy as np\n",
    "import matplotlib.pyplot as plt\n",
    "\n",
    "from scipy.optimize import minimize\n",
    "\n",
    "import math\n",
    "\n",
    "sys.path.append('../src')\n",
    "import utils"
   ]
  },
  {
   "cell_type": "code",
   "execution_count": 29,
   "metadata": {},
   "outputs": [
    {
     "name": "stdout",
     "output_type": "stream",
     "text": [
      "[0.69299885]\n",
      "-0.6931471695590093\n"
     ]
    }
   ],
   "source": [
    "fun = lambda x: 0.5*(math.e**x[0])-x[0]\n",
    "\n",
    "res = minimize(fun, (2), method='SLSQP')\n",
    "print(res.x)\n",
    "print(-1+fun(res.x))"
   ]
  },
  {
   "cell_type": "code",
   "execution_count": 30,
   "metadata": {},
   "outputs": [
    {
     "name": "stdout",
     "output_type": "stream",
     "text": [
      "[0.69299885]\n",
      "-0.6931471695590093\n"
     ]
    }
   ],
   "source": [
    "fun = lambda x: 0.5*(math.e**x[0])-x[0]\n",
    "\n",
    "def func(x, n):\n",
    "    sum = 0\n",
    "    for i in range(n):\n",
    "        sum += math.e**(x[0])\n",
    "    return 1*(math.e**x[0])-x[0]\n",
    "\n",
    "res = minimize(func, (2), args=100, method='SLSQP')\n",
    "print(res.x)\n",
    "print(-1+fun(res.x))"
   ]
  }
 ],
 "metadata": {
  "kernelspec": {
   "display_name": "Python 3 (ipykernel)",
   "language": "python",
   "name": "python3"
  },
  "language_info": {
   "codemirror_mode": {
    "name": "ipython",
    "version": 3
   },
   "file_extension": ".py",
   "mimetype": "text/x-python",
   "name": "python",
   "nbconvert_exporter": "python",
   "pygments_lexer": "ipython3",
   "version": "3.8.12"
  }
 },
 "nbformat": 4,
 "nbformat_minor": 4
}
