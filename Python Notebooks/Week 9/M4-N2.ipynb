{
 "cells": [
  {
   "cell_type": "code",
   "execution_count": 1,
   "metadata": {},
   "outputs": [],
   "source": [
    "import ipywidgets as widgets\n",
    "from ipywidgets import HBox, VBox\n",
    "from IPython.display import display\n",
    "import numpy as np\n",
    "import matplotlib.pyplot as plt"
   ]
  },
  {
   "cell_type": "markdown",
   "metadata": {},
   "source": [
    "In this notebook, we will explore the Logistic Regression optimization problem, and gradient descent as a means to solve this optimization."
   ]
  },
  {
   "cell_type": "markdown",
   "metadata": {},
   "source": [
    "# Part I: Simple Logistic Regression"
   ]
  },
  {
   "cell_type": "markdown",
   "metadata": {},
   "source": [
    "In this example we consider the study done by Suzuki et al. (2006) where the authors consider the dependence of grain size of beach sand on the presence or absence of an endagered species of spiders. \n",
    "\n",
    "For the data, we have the size of the sand grains in mm and 0 denotes the absence of spiders and 1 denotes the presence of spiders."
   ]
  },
  {
   "cell_type": "markdown",
   "metadata": {},
   "source": [
    "### Data "
   ]
  },
  {
   "cell_type": "markdown",
   "metadata": {},
   "source": [
    "We are given data points:\n",
    "$\\begin{equation*}\n",
    "\\{(a_1, y_1), (a_2, y_2), \\ldots, (a_m, y_m)\\}\n",
    "\\end{equation*}$"
   ]
  },
  {
   "cell_type": "code",
   "execution_count": 2,
   "metadata": {},
   "outputs": [],
   "source": [
    "a = np.array([0.245, 0.247, 0.285, 0.299, 0.327, 0.347, 0.356, 0.36, 0.363, 0.364, 0.398, 0.4, 0.409, 0.421, 0.432, 0.473, 0.509, 0.529, 0.561, 0.569, 0.594, 0.638, 0.656, 0.816, 0.853, 0.938, 1.036, 1.045])\n",
    "y = np.array([0, 0, 1, 1, 1, 1, 0, 1, 0, 1, 0, 1, 0, 1, 0, 1, 1, 1, 0, 0, 1, 1, 1, 1, 1, 1, 1, 1])"
   ]
  },
  {
   "cell_type": "markdown",
   "metadata": {},
   "source": [
    "### Scatter plot the data.  "
   ]
  },
  {
   "cell_type": "code",
   "execution_count": 3,
   "metadata": {},
   "outputs": [
    {
     "data": {
      "image/png": "[encoded data removed]",
      "text/plain": [
       "<Figure size 900x600 with 1 Axes>"
      ]
     },
     "metadata": {
      "needs_background": "light"
     },
     "output_type": "display_data"
    }
   ],
   "source": [
    "# Do some processing to get decent plots.\n",
    "m = np.shape(a)[0]\n",
    "num_ones = np.sum(y)\n",
    "num_zeros = m - num_ones\n",
    "a0 = np.zeros(num_zeros)\n",
    "a1 = np.zeros(num_ones)\n",
    "y0 = np.zeros(num_zeros)\n",
    "y1 = np.ones(num_ones)\n",
    "counter0 = 0\n",
    "counter1 = 0\n",
    "for i in range(m):\n",
    "    if y[i] == 0:\n",
    "        a0[counter0] = a[i]\n",
    "        counter0 += 1\n",
    "    else:\n",
    "        a1[counter1] = a[i]\n",
    "        counter1 += 1\n",
    "        \n",
    "plt.figure(dpi = 150)\n",
    "plt.scatter(a0, y0, marker='o', label='Absent')\n",
    "plt.scatter(a1, y1, marker='o', color='black', label='Present')\n",
    "plt.xlabel('Sand grain size (mm)')\n",
    "plt.xlim([0, 1.1])\n",
    "plt.legend(loc=4)\n",
    "plt.show()"
   ]
  },
  {
   "cell_type": "markdown",
   "metadata": {},
   "source": [
    "### The objective"
   ]
  },
  {
   "cell_type": "markdown",
   "metadata": {},
   "source": [
    "Our goal is to use this data to choose a function $\\hat{f}: x \\to [0,1]$ that accepts the size of grain of sand at a beach, and outputs a probability between $0$ and $1$ that the endangered species of spider is present at the beach. \n",
    "\n",
    "This type of problem is typically solved in Machine Learning using logistic regression. We assume that the function $\\hat{f}$ follows the logistic model.\n",
    "\\begin{equation*}\n",
    "\\hat{f}(x) = \\frac{\\exp(x_0 + x_1a)}{1 + \\exp(x_0 + x_1a)},\n",
    "\\end{equation*}\n",
    "\n",
    "Our goal is to choose the parameters $x_0, x_1$ such that the functions explains the training data above well."
   ]
  },
  {
   "cell_type": "markdown",
   "metadata": {},
   "source": [
    "This is framed as the following optimization problem, as described in lecture. The exact design of this objective is motivated by Maximum-Likelihood Estimation (MLE) in Statistics, and is outside the scope of this course.\n",
    "\n",
    "\\begin{equation*}\n",
    "    \\min_{x_0, x_1} \\sum_{i=1}^{m}\\log(1 + \\exp(x_0 + x_1a_i)) - y_i(x_0 + x_1a_i).\n",
    "\\end{equation*}"
   ]
  },
  {
   "cell_type": "markdown",
   "metadata": {},
   "source": [
    "### Visualize how the model parameters $x_0$ and $x_1$ affect the shape of the logistic curve."
   ]
  },
  {
   "cell_type": "code",
   "execution_count": 4,
   "metadata": {},
   "outputs": [
    {
     "data": {
      "application/vnd.jupyter.widget-view+json": {
       "model_id": "8f15276eb81f49bcadae5cf8bc98e6e4",
       "version_major": 2,
       "version_minor": 0
      },
      "text/plain": [
       "interactive(children=(FloatSlider(value=1.0, description='x0', max=25.0, min=-25.0), FloatSlider(value=1.0, de…"
      ]
     },
     "metadata": {},
     "output_type": "display_data"
    }
   ],
   "source": [
    "@widgets.interact_manual(x0=(-25., 25.), x1=(-35., 35.))\n",
    "def plot(x0=1, x1=1):\n",
    "    fig, ax = plt.subplots(1, 1, figsize=(8, 6), dpi=100)\n",
    "    t = np.array([0.245, 0.247, 0.356, 0.363, 0.398, 0.409, 0.432, 0.561, 0.569, 0.594, 0.638, 0.656, 0.816, 0.853, 0.938, 1.036, 1.045])\n",
    "    y_t = np.array([0, 0, 0, 0, 0, 0, 0, 0, 0, 1, 1, 1, 1, 1, 1, 1, 1])\n",
    "    ax.scatter(t[0:9], y_t[0:9], label='Absent', color=\"blue\")\n",
    "    ax.scatter(t[9:17], y_t[9:17], label='Present', color='black')\n",
    "    z = np.linspace(0, 1, 1000)\n",
    "    p_z = np.array([np.exp(x0 + x1*z[i])/(1 + np.exp(x0 + x1*z[i])) for i in range(1000)])\n",
    "    plt.plot(z, p_z, label='Current Curve', color='red')\n",
    "    x0_actual = -71\n",
    "    x1_actual = 125\n",
    "    p_actual = np.array([np.exp(x0_actual + x1_actual*z[i])/(1 + np.exp(x0_actual + x1_actual*z[i])) for i in range(1000)])\n",
    "    plt.plot(z, p_actual, label='Optimal Curve', color='green')\n",
    "    plt.legend(loc=4)\n",
    "    plt.show()"
   ]
  },
  {
   "cell_type": "markdown",
   "metadata": {},
   "source": [
    "We now solve the optimization problem using the gradient descent algorithm. Here's the algorithm for gradient descent with initial guess $x^0$, step size $\\alpha$, and stopping condition based on the gradient of $f$:\n",
    "\n",
    "> **input** $x^0$, $\\alpha$, $\\epsilon$  \n",
    "> **set** $k = 0$  \n",
    "> **while** $\\| \\nabla f(x^{k}) \\| \\geq \\epsilon$ **do**  \n",
    "> &nbsp;&nbsp;&nbsp;&nbsp;$x^{k+1} \\leftarrow x^k - \\alpha \\nabla f(x^k)$  \n",
    "> &nbsp;&nbsp;&nbsp;&nbsp;$k \\leftarrow k + 1$  \n",
    "> **end while**"
   ]
  },
  {
   "cell_type": "markdown",
   "metadata": {},
   "source": [
    "### Exercise (a): Finding gradients"
   ]
  },
  {
   "cell_type": "markdown",
   "metadata": {},
   "source": [
    "(a) Below, find the gradient of the objective function for an input $x$"
   ]
  },
  {
   "cell_type": "code",
   "execution_count": 5,
   "metadata": {},
   "outputs": [],
   "source": [
    "def gradF(x):\n",
    "    \"\"\"\n",
    "    input: x = [x_0, x_1]\n",
    "    output: gradient of the objective function at x\n",
    "    \"\"\"\n",
    "    #TODO\n",
    "    return np.array([2*x[0] + x[1], 2*x[1] + x[0]])"
   ]
  },
  {
   "cell_type": "markdown",
   "metadata": {},
   "source": [
    "### Exercise (b): Gradient Descent implementation"
   ]
  },
  {
   "cell_type": "markdown",
   "metadata": {},
   "source": [
    "(b) Below, implement the gradient descent algorithm, whose psuedocode is provided above. "
   ]
  },
  {
   "cell_type": "code",
   "execution_count": 20,
   "metadata": {},
   "outputs": [],
   "source": [
    "def runGradientDescent(start, alpha, eps):\n",
    "    \"\"\"\n",
    "    input: start (initial guess), alpha (step-size), eps (tolerance)\n",
    "    output: final (the final estimate of the optimum), counter (number of iterations taken)\n",
    "    \"\"\"\n",
    "    #TODO\n",
    "    k = 0\n",
    "    solution = start\n",
    "    while(np.linalg.norm(gradF(solution)) >= eps):\n",
    "        solution = solution - alpha*gradF(solution)\n",
    "        k = k+1\n",
    "        if(solution.all() == gradF(solution).all()):\n",
    "            break\n",
    "    return solution, k"
   ]
  },
  {
   "cell_type": "markdown",
   "metadata": {},
   "source": [
    "Below, we run the gradient descent algorithm and visualize the learned function."
   ]
  },
  {
   "cell_type": "code",
   "execution_count": 21,
   "metadata": {},
   "outputs": [
    {
     "name": "stdout",
     "output_type": "stream",
     "text": [
      "[-5.  5.]\n"
     ]
    }
   ],
   "source": [
    "start = np.array([-10, 10]) # initial guess. Other values: np.array([10, 1]), np.array([1, 10]), np.array([-10, 1])\n",
    "alpha = 0.5 # step size. Other values: 0.3, 0.2, 0.1, 0.05\n",
    "eps = 5*1e-4 # tolerance. Other values: 1e-2, 1e-4\n",
    "\n",
    "final, counter = runGradientDescent(start, alpha, eps)\n",
    "print(final)"
   ]
  },
  {
   "cell_type": "code",
   "execution_count": 22,
   "metadata": {},
   "outputs": [
    {
     "data": {
      "image/png": "[encoded data removed]",
      "text/plain": [
       "<Figure size 900x600 with 1 Axes>"
      ]
     },
     "metadata": {
      "needs_background": "light"
     },
     "output_type": "display_data"
    }
   ],
   "source": [
    "x = np.linspace(0, 1, 1000)\n",
    "p = np.array([np.exp(final[0] + final[1]*x[i])/(1 + np.exp(final[0] + final[1]*x[i])) for i in range(1000)])\n",
    "plt.figure(dpi = 150)\n",
    "plt.scatter(a0, y0, marker='o', label='Absent')\n",
    "plt.scatter(a1, y1, marker='o', color='black', label='Present')\n",
    "plt.plot(x, p, color='red', label='Probability')\n",
    "plt.xlabel('Sand grain size (mm)')\n",
    "plt.legend(loc=4)\n",
    "plt.xlim([0, 1.1])\n",
    "plt.show()"
   ]
  },
  {
   "cell_type": "markdown",
   "metadata": {},
   "source": [
    "### Exercise (c): Exploring the effect of stepsize"
   ]
  },
  {
   "cell_type": "markdown",
   "metadata": {},
   "source": [
    "The function below that calculates the objective value is provided for your convenience."
   ]
  },
  {
   "cell_type": "code",
   "execution_count": 13,
   "metadata": {},
   "outputs": [],
   "source": [
    "def objective(x):\n",
    "    \"\"\"\n",
    "    input: x = [x_0, x_1] \n",
    "    output: objective value at the given x\n",
    "    \"\"\"\n",
    "    output = 0\n",
    "    for i in range(m):\n",
    "        output += np.log(1 + np.exp(x[0] + x[1]*a[i])) - y[i]*(x[0] + x[1]*a[i])\n",
    "    return output"
   ]
  },
  {
   "cell_type": "code",
   "execution_count": 14,
   "metadata": {},
   "outputs": [],
   "source": [
    "start = np.array([-10, 10])\n",
    "eps = 5*1e-4"
   ]
  },
  {
   "cell_type": "markdown",
   "metadata": {},
   "source": [
    "(c) Below, run the gradient descent algorithm on the logistic regression problem for stepsizes varying from 0.05 to 0.03 in increments of 0.05. \n",
    "\n",
    "1. Plot the effect of the stepsize on the objective value and the total number of iterations required to converge.\n",
    "2. What happens if you increase alpha beyond 0.4?"
   ]
  },
  {
   "cell_type": "code",
   "execution_count": 12,
   "metadata": {},
   "outputs": [],
   "source": [
    "#TODO: Run gradient descent algorithm for different choices of alpha\n",
    "alpha_values = np.array([0.05, 0.1, 0.15, 0.2, 0.25, 0.3])\n",
    "objective_values = []\n",
    "iteration_values = []\n",
    "for i in range(len(alpha_values)):\n",
    "    alpha = alpha_values[i] #step size through array\n",
    "    start = np.array([-10, 10]) # initial guess. Other values: np.array([10, 1]), np.array([1, 10]), np.array([-10, 1])\n",
    "    eps = 5*1e-4 # tolerance. Other values: 1e-2, 1e-4\n",
    "    final, counter = runGradientDescent(start, alpha, eps)\n",
    "    objective_values.append(final)\n",
    "    iteration_values.append(i)"
   ]
  },
  {
   "cell_type": "code",
   "execution_count": 111,
   "metadata": {},
   "outputs": [
    {
     "data": {
      "image/png": "[encoded data removed]",
      "text/plain": [
       "<Figure size 432x288 with 2 Axes>"
      ]
     },
     "metadata": {
      "needs_background": "light"
     },
     "output_type": "display_data"
    }
   ],
   "source": [
    "#TODO: Visualize effect of alpha\n",
    "fig = plt.figure()\n",
    "ax1 = fig.add_subplot(2, 1, 1)\n",
    "alpha_list = alpha_values.tolist()\n",
    "ax1.plot(alpha_list, objective_values, 's')\n",
    "ax1.set_xlabel(\"Alpha Value\")\n",
    "ax1.set_ylabel(\"Objective Value\")\n",
    "ax1.set_title(\"Effect of Step Size on Objective Value\")\n",
    "\n",
    "ax2 = fig.add_subplot(2, 1, 2)\n",
    "ax2.plot(alpha_list, iteration_values, 's')\n",
    "ax2.set_xlabel(\"Alpha Value\")\n",
    "ax2.set_ylabel(\"Iteration Value\")\n",
    "ax2.set_title(\"Effect of Step Size on Iteration Value\")\n",
    "plt.subplots_adjust(hspace=0.8)\n",
    "plt.show()"
   ]
  },
  {
   "cell_type": "markdown",
   "metadata": {},
   "source": [
    "Increasing alpha above 0.4 fives us a sudden decrease in the objective value, from over 0.0001 to nearly 0. The two sides of the objective value then overlap as well."
   ]
  },
  {
   "cell_type": "markdown",
   "metadata": {},
   "source": [
    "### Exercise (d): Exploring the effect of stopping threshold"
   ]
  },
  {
   "cell_type": "code",
   "execution_count": 13,
   "metadata": {},
   "outputs": [],
   "source": [
    "start = np.array([-10, 10])\n",
    "eps = 5*1e-4\n",
    "alpha = 0.3"
   ]
  },
  {
   "cell_type": "markdown",
   "metadata": {},
   "source": [
    "(d) Below, run the gradient descent algorithm on the logistic regression problem for $\\epsilon \\in \\{10^{-2}, 5\\times10^{-2}, 10^{-3}, 5\\times10^{-3}, 10^{-4} \\}$. Plot the effect of the stepsize on the objective value and the total number of iterations required to converge."
   ]
  },
  {
   "cell_type": "code",
   "execution_count": 14,
   "metadata": {},
   "outputs": [],
   "source": [
    "#TODO: Running gradient descent algorithm for different choices of epsilon\n",
    "epsilon_values = np.array([0.01, 0.05, 0.001, 0.005, 0.0001, 0.0005])\n",
    "objective_values2 = []\n",
    "iteration_values2 = []\n",
    "for i in range(len(epsilon_values)):\n",
    "    eps = epsilon_values[i] #step size through array\n",
    "    final, counter = runGradientDescent(start, alpha, eps)\n",
    "    objective_values2.append(final)\n",
    "    iteration_values2.append(i)"
   ]
  },
  {
   "cell_type": "code",
   "execution_count": 15,
   "metadata": {},
   "outputs": [
    {
     "data": {
      "image/png": "[encoded data removed]",
      "text/plain": [
       "<Figure size 432x288 with 2 Axes>"
      ]
     },
     "metadata": {
      "needs_background": "light"
     },
     "output_type": "display_data"
    }
   ],
   "source": [
    "#TODO: Visualizing effect of epsilon\n",
    "fig2 = plt.figure()\n",
    "ax1 = fig2.add_subplot(2, 1, 1)\n",
    "epsilon_list = epsilon_values.tolist()\n",
    "ax1.plot(epsilon_list, objective_values, 's')\n",
    "ax1.set_xlabel(\"Epsilon Value\")\n",
    "ax1.set_ylabel(\"Objective Value\")\n",
    "ax1.set_xscale('log')\n",
    "ax1.set_title(\"Effect of Threshold Value on Objective Value\")\n",
    "\n",
    "ax2 = fig2.add_subplot(2, 1, 2)\n",
    "ax2.plot(epsilon_list, iteration_values, 's')\n",
    "ax2.set_xlabel(\"Epsilon Value\")\n",
    "ax2.set_ylabel(\"Iteration Value\")\n",
    "ax2.set_xscale('log')\n",
    "ax2.set_title(\"Effect of Threshold Value on Objective Value\")\n",
    "plt.subplots_adjust(hspace=0.8)\n",
    "plt.show()"
   ]
  },
  {
   "cell_type": "markdown",
   "metadata": {},
   "source": [
    "# Part II: Regularized Logistic Regression "
   ]
  },
  {
   "cell_type": "markdown",
   "metadata": {},
   "source": [
    "We add a $L_2$-regularization term to the objective of the optimization problem considered above. Explicitly we now solve:\n",
    "\n",
    "\\begin{equation*}\n",
    "    \\min_{x_0, x_1} (\\sum_{i=1}^{m}\\log(1 + \\exp(x_0 + x_1a_i)) - y_i(x_0 + x_1a_i)) + \\frac{\\lambda}{2}(x_0^2 + x_1^2) .\n",
    "\\end{equation*}"
   ]
  },
  {
   "cell_type": "markdown",
   "metadata": {},
   "source": [
    "### Exercise (e): Find gradient of regularized objective"
   ]
  },
  {
   "cell_type": "markdown",
   "metadata": {},
   "source": [
    "(e) Fill in the function below."
   ]
  },
  {
   "cell_type": "code",
   "execution_count": 25,
   "metadata": {},
   "outputs": [],
   "source": [
    "def gradF_pen(x, lamda):\n",
    "    #TODO\n",
    "    return 2*x*lamda"
   ]
  },
  {
   "cell_type": "markdown",
   "metadata": {},
   "source": [
    "### Exercise (f): Gradient descent implementation for regularized objective"
   ]
  },
  {
   "cell_type": "markdown",
   "metadata": {},
   "source": [
    "(f) Fill in the function below."
   ]
  },
  {
   "cell_type": "code",
   "execution_count": 31,
   "metadata": {},
   "outputs": [],
   "source": [
    "def runGD_penalized(start_pen, alpha_pen, eps_pen, lamda):\n",
    "    #TODO\n",
    "    k = 0\n",
    "    finalcurr = start_pen\n",
    "    finalcurrminusone = start_pen\n",
    "    while(np.linalg.norm(gradF_pen(finalcurr, lamda)) >= eps_pen):\n",
    "        newx = finalcurr - alpha_pen*gradF_pen(finalcurr, lamda)\n",
    "        finalcurrminusone = finalcurr\n",
    "        finalcurr = newx\n",
    "        k = k+1\n",
    "        if(finalcurrminusone.all() == gradF_pen(finalcurr, lamda).all()):\n",
    "            break\n",
    "    finalcurr += lamda*1/2*(finalcurr**2+finalcurrminusone**2)\n",
    "    return finalcurr, k"
   ]
  },
  {
   "cell_type": "markdown",
   "metadata": {},
   "source": [
    "We can use the code below to run regularized logistic regression"
   ]
  },
  {
   "cell_type": "code",
   "execution_count": 32,
   "metadata": {},
   "outputs": [],
   "source": [
    "start_pen = np.array([-10, 10]) # initial guess. Other values: np.array([10, 1]), np.array([1, 10]), np.array([-10, 1])\n",
    "alpha_pen = 0.15 # step size. Other values: 0. 0.01 , 0.1\n",
    "lamda = 0.1 # Regularization term\n",
    "eps_pen = 5*1e-3 # tolerance. Other values 1e-2, 1e-4, 1e-5\n",
    "\n",
    "final_pen, counter_pen = runGD_penalized(start_pen, alpha_pen, eps_pen, lamda)"
   ]
  },
  {
   "cell_type": "markdown",
   "metadata": {},
   "source": [
    "### Exercise (g): Compare Logistic Regression to Regularized Logistic Regression"
   ]
  },
  {
   "cell_type": "code",
   "execution_count": 33,
   "metadata": {},
   "outputs": [
    {
     "data": {
      "application/vnd.jupyter.widget-view+json": {
       "model_id": "64f45c810b1b4013ab3d49f3fda5bcca",
       "version_major": 2,
       "version_minor": 0
      },
      "text/plain": [
       "interactive(children=(FloatSlider(value=0.001, description='lamda', max=1.5, min=0.0005), Button(description='…"
      ]
     },
     "metadata": {},
     "output_type": "display_data"
    }
   ],
   "source": [
    "@widgets.interact_manual(lamda=(0.0005, 1.50))\n",
    "def plot(lamda=0.001):\n",
    "    # Run the algorithm\n",
    "    final_pen, counter_pen = runGD_penalized(start_pen, alpha_pen, eps_pen, lamda)\n",
    "    \n",
    "    fig, ax = plt.subplots(1, 1, figsize=(8, 6), dpi=100)\n",
    "    x = np.linspace(0, 1, 1000)\n",
    "    p = np.array([np.exp(final[0] + final[1]*x[i])/(1 + np.exp(final[0] + final[1]*x[i])) for i in range(1000)])\n",
    "    p_pen = np.array([np.exp(final_pen[0] + final_pen[1]*x[i])/(1 + np.exp(final_pen[0] + final_pen[1]*x[i])) for i in range(1000)])\n",
    "    \n",
    "    plt.scatter(a0, y0, marker='o', label='Absent')\n",
    "    plt.scatter(a1, y1, marker='o', color='black', label='Present')\n",
    "    plt.plot(x, p, color='red', linestyle='--', label='Logistic Reg.')\n",
    "    plt.plot(x, p_pen, color='blue', label='Reg. Logistic Reg.')\n",
    "    plt.xlabel('Sand grain size (mm)')\n",
    "    plt.legend(loc=4)\n",
    "    plt.xlim([0, 1.1])\n",
    "    plt.show()\n",
    "    "
   ]
  },
  {
   "cell_type": "markdown",
   "metadata": {},
   "source": [
    "(g) Vary the hyperparameter $\\lambda$ in $[0, 0.5]$ and include your observations on how the regularized logistic regression curve changes. What would happen in the limit as as $\\lambda \\to \\infty$?"
   ]
  },
  {
   "cell_type": "markdown",
   "metadata": {},
   "source": [
    "The variance of the model decreases as we increase lambda to infinity. We would, however, see an increase in bias as the total sum of the least squares decreases."
   ]
  },
  {
   "cell_type": "markdown",
   "metadata": {},
   "source": [
    "<Include your answer here>"
   ]
  },
  {
   "cell_type": "markdown",
   "metadata": {},
   "source": [
    "**Reference**: *Suzuki, S., N. Tsurusaki, and Y. Kodama. 2006. Distribution of an endangered burrowing spider Lycosa ishikariana in the San'in Coast of Honshu, Japan (Araneae: Lycosidae). Acta Arachnologica 55: 79-86.*"
   ]
  }
 ],
 "metadata": {
  "kernelspec": {
   "display_name": "Python 3 (ipykernel)",
   "language": "python",
   "name": "python3"
  },
  "language_info": {
   "codemirror_mode": {
    "name": "ipython",
    "version": 3
   },
   "file_extension": ".py",
   "mimetype": "text/x-python",
   "name": "python",
   "nbconvert_exporter": "python",
   "pygments_lexer": "ipython3",
   "version": "3.8.12"
  }
 },
 "nbformat": 4,
 "nbformat_minor": 2
}
