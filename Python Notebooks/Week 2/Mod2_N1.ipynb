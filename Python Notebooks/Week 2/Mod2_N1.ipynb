{
 "cells": [
  {
   "cell_type": "code",
   "execution_count": 3,
   "metadata": {},
   "outputs": [],
   "source": [
    "import numpy as np\n",
    "import matplotlib.pyplot as plt\n",
    "import scipy\n",
    "from scipy import io\n",
    "from scipy import linalg\n",
    "from scipy import optimize"
   ]
  },
  {
   "cell_type": "markdown",
   "metadata": {},
   "source": [
    "# Warmup: Least Squares with 2d synthetic data"
   ]
  },
  {
   "cell_type": "markdown",
   "metadata": {},
   "source": [
    "We will start with a simple least squares example on synthetic data with the goal of visualization.\n",
    "\n",
    "(a) Create a vector of inputs x with 101 regularly-spaced entries between 0 and 1. \n",
    "\n",
    "Create a vector of labels y = 1 + x + x*z, where z is drawn from the uniform distribution on the half open interval [0, 1)."
   ]
  },
  {
   "cell_type": "code",
   "execution_count": 4,
   "metadata": {},
   "outputs": [],
   "source": [
    "#Todo: Part a\n",
    "x = np.arange(0, 1, 1/101)\n",
    "z = np.random.uniform(0, 1)\n",
    "y = 1 + x + x*z"
   ]
  },
  {
   "cell_type": "markdown",
   "metadata": {},
   "source": [
    "(b) Create a matrix A whose first column is the vector x above, and it's second column is the ones vector."
   ]
  },
  {
   "cell_type": "code",
   "execution_count": 5,
   "metadata": {},
   "outputs": [],
   "source": [
    "# TODO Part (b): Assemble matrix A\n",
    "ones = np.ones(x.shape)\n",
    "A = np.zeros(shape=(len(x), 2))\n",
    "for i in range(len(x)):\n",
    "    A[i][0] = x[i]\n",
    "    A[i][1] = ones[i]\n",
    "\n",
    "# turn y into a column vector\n",
    "y = y[:, np.newaxis]"
   ]
  },
  {
   "cell_type": "markdown",
   "metadata": {},
   "source": [
    "(c) Solve the ordinary least squares problem to obtain a vector w of coefficients."
   ]
  },
  {
   "cell_type": "code",
   "execution_count": 6,
   "metadata": {},
   "outputs": [],
   "source": [
    "# TODO: Part (c)\n",
    "m, c = np.linalg.lstsq(A, y, rcond=None)[0]"
   ]
  },
  {
   "cell_type": "markdown",
   "metadata": {},
   "source": [
    "(d) Plot the training data (x,y) as blue dots and the learned function as a red line"
   ]
  },
  {
   "cell_type": "code",
   "execution_count": 7,
   "metadata": {},
   "outputs": [
    {
     "data": {
      "image/png": "[encoded data removed]",
      "text/plain": [
       "<Figure size 432x288 with 1 Axes>"
      ]
     },
     "metadata": {
      "needs_background": "light"
     },
     "output_type": "display_data"
    }
   ],
   "source": [
    "# TODO: Part (d)  \n",
    "plt.plot(x, y, 'bo', label='Original data')\n",
    "plt.plot(x, m*x + c, 'r', label='Fitted line')\n",
    "plt.legend()\n",
    "plt.show()"
   ]
  },
  {
   "cell_type": "markdown",
   "metadata": {},
   "source": [
    "# System Identification"
   ]
  },
  {
   "cell_type": "markdown",
   "metadata": {},
   "source": [
    "Making autonomous vehicles involves machine learning for different purposes. One of which is learning how cars actually behave based on their data.\n",
    "\n",
    "**Setup for parts (a) and (b):** Assume that $x_t$ is the position of a car and obeys the following linear dynamics $$x_{t+1} = A^* x_t + B^* u_t $$\n",
    "\n",
    "We do not know the matrices $A^*$ and $B^*$. But we have data about the cars position for timesteps $1 \\ldots T$. We want to use this data to infer the underlying dynamics."
   ]
  },
  {
   "cell_type": "markdown",
   "metadata": {},
   "source": [
    "## Scalar Least Squares"
   ]
  },
  {
   "cell_type": "markdown",
   "metadata": {},
   "source": [
    "First, we consider the simpler case where $x_t \\in \\mathbb{R}$ and $A^*, B^*$ are scalars as well."
   ]
  },
  {
   "cell_type": "markdown",
   "metadata": {},
   "source": [
    "(a) Consider the time sequence of scalars $x_t \\in \\mathbb{R}$ and $u_t \\in \\mathbb{R}$ in which $x_{t + 1} ≈ A x_t + B u_t$. In control theory, $x_t$ usually represents the state, and $u_t$ usually represents the control input. Find and output the numbers $A$ and $B$ so that $\\sum_t (x_{t +1} − Ax_t − Bu_t)^2$ is minimized. The values of x_t and u_t are stored in a.mat."
   ]
  },
  {
   "cell_type": "code",
   "execution_count": 160,
   "metadata": {},
   "outputs": [
    {
     "name": "stdout",
     "output_type": "stream",
     "text": [
      "0.977552086373869\n",
      "-0.08775258815104042\n"
     ]
    }
   ],
   "source": [
    "mdict = scipy.io.loadmat(\"a.mat\")\n",
    "x = mdict['x']\n",
    "u = mdict['u']\n",
    "\n",
    "# TODO: Your code to compute a and b\n",
    "def to_min(params):\n",
    "    x = mdict['x']\n",
    "    u = mdict['u']\n",
    "    a, b = params\n",
    "    sum = 0\n",
    "    for j in range(len(x)):\n",
    "        currx = x[j]\n",
    "        curru = u[j]\n",
    "        for i in range(len(currx)-1):\n",
    "            val = 0\n",
    "            val = currx[i+1] - a*currx[i] - b*curru[i]\n",
    "            val = val**2\n",
    "            sum += val\n",
    "    return sum\n",
    "\n",
    "ab = [1, 1]\n",
    "res = optimize.minimize(to_min, ab, method='Nelder-Mead', tol=1e-6)\n",
    "if(res.success):\n",
    "    a = res.x[0]\n",
    "    b = res.x[1]\n",
    "    print(a)\n",
    "    print(b)\n",
    "else:\n",
    "    print(\"Not successful\")"
   ]
  },
  {
   "cell_type": "markdown",
   "metadata": {},
   "source": [
    "## Matrix least squares"
   ]
  },
  {
   "cell_type": "markdown",
   "metadata": {},
   "source": [
    "(b) Consider the time sequences of vectors $x_t \\in \\mathbb{R}^3$ and $u_t \\in \\mathbb{R}^3$ in which $x_{t + 1} ≈ Axt + But$ . Find and output the matrix $A \\in \\mathbb{R}^{3×3}$ and $B \\in \\mathbb{R}^{3×3}$ so that the sum of the squared $l_2$-norms of the error, \n",
    "$$\\sum_t \\| x_{t+1} − A x_t −B u_t \\|_2^2 $$\n",
    "is minimized. The values of x_t and u_t are stored in b.mat."
   ]
  },
  {
   "cell_type": "code",
   "execution_count": 161,
   "metadata": {},
   "outputs": [
    {
     "name": "stdout",
     "output_type": "stream",
     "text": [
      "[[-0.11150651  0.43282882  0.13433352]\n",
      " [ 0.30488788 -0.39806071 -0.36185384]\n",
      " [ 1.95641154  0.88992412  1.3492964 ]]\n",
      "[[0.90341912 1.67571799 1.62979598]\n",
      " [1.27980238 2.16508706 0.66472806]\n",
      " [3.1361569  1.15292762 0.33912519]]\n"
     ]
    }
   ],
   "source": [
    "mdict = scipy.io.loadmat(\"b.mat\")\n",
    "x = mdict['x']\n",
    "u = mdict['u']\n",
    "\n",
    "# TODO: Your code to compute A, B\n",
    "def to_min(params):\n",
    "    x = mdict['x']\n",
    "    u = mdict['u']\n",
    "    A = params[0:3]\n",
    "    B = params[3:6]\n",
    "    sum = 0\n",
    "    for i in range(len(x)-1):\n",
    "        val = (x[i+1] - np.matmul(A, x[i]) - np.matmul(B, u[i]))\n",
    "        normval = linalg.norm(val, ord=2)\n",
    "        normval = normval**2\n",
    "        sum += normval\n",
    "    return sum\n",
    "\n",
    "A = np.ones(9).reshape(3, 3)\n",
    "B = np.ones(9).reshape(3, 3)\n",
    "AB = np.concatenate([A, B])\n",
    "res = optimize.minimize(to_min, AB, method='Nelder-Mead', tol=1e-6)\n",
    "if(res.success):\n",
    "    A = res.x[:9]\n",
    "    B = res.x[9:]\n",
    "    A = np.reshape(A, (3, 3))\n",
    "    B = np.reshape(B, (3, 3))\n",
    "    print(A)\n",
    "    print(B)\n",
    "else:\n",
    "    print(\"Not successful\")"
   ]
  },
  {
   "cell_type": "markdown",
   "metadata": {},
   "source": [
    "## Acceleration model"
   ]
  },
  {
   "cell_type": "markdown",
   "metadata": {},
   "source": [
    "(c) Consider a car following model that models how cars line up on a straight 1D highway at a given time. The acceleration of a car can be approximated by a linear function of the positions and velocities of its own and the car in front of it. Mathematically, we can formulate this as\n",
    "\n",
    "$$\n",
    "\\ddot{x}_{i} \\approx a x_{i}+b \\dot{x}_{i}+c x_{i-1}+d \\dot{x}_{i-1}+e\n",
    "$$\n",
    "\n",
    "where $x_{i}, \\dot{x}_{i}$, and $\\ddot{x}_{i}$ are the position, velocity, and acceleration of the $i$ th car in the line.\n",
    "Find $a, b, c, d$, and $e$ that minimize\n",
    "\n",
    "$$\n",
    "\\sum_{i}\\left\\|-\\ddot{x}_{i}+a x_{i}+b \\dot{x}_{i}+c x_{i-1}+d \\dot{x}_{i-1}+e\\right\\|_{2}^{2}\n",
    "$$\n",
    "\n",
    "using data file train. mat, which contains the status of 40000 cars at a given point from the I- 80 highway in California. The data were sampled from the Next Generation Simulation (NGSIM) dataset so that the $i$ may not be continuous. For your convenience, we give you the profiles of each sampled car and the car that is in front of it."
   ]
  },
  {
   "cell_type": "code",
   "execution_count": 165,
   "metadata": {},
   "outputs": [
    {
     "name": "stdout",
     "output_type": "stream",
     "text": [
      "a: -0.011521205542996463\n",
      "b: -0.3177934187464643\n",
      "c: 0.011289328531084464\n",
      "d: 0.27535830141760675\n",
      "e: -0.882935700781114\n"
     ]
    }
   ],
   "source": [
    "# TODO: Solve part (c)\n",
    "# Your code to compute a, b, c, d, e\n",
    "mdict = scipy.io.loadmat(\"train.mat\")\n",
    "\n",
    "def to_min(params):\n",
    "    # Assemble xu matrix\n",
    "    x = mdict[\"x\"]   # position of a car\n",
    "    v = mdict[\"xd\"]  # velocity of the car\n",
    "    xprev = mdict[\"xp\"]   # position of the car ahead\n",
    "    vprev = mdict[\"xdp\"]  # velocity of the car ahead\n",
    "    acc = mdict[\"xdd\"]  # acceleration of the car\n",
    "\n",
    "    a, b, c, d, e = params\n",
    "    sum = 0\n",
    "    for i in range(len(x)):\n",
    "        loc = x[i]\n",
    "        vel = v[i]\n",
    "        locprev = xprev[i]\n",
    "        velprev = vprev[i]\n",
    "        accel = acc[i]\n",
    "        \n",
    "        val = -1*accel + a*loc + b*vel + c*locprev + d*velprev + e\n",
    "        normval = linalg.norm(val, ord=2)\n",
    "        normval = normval**2\n",
    "        sum += normval\n",
    "    return sum\n",
    "\n",
    "a, b, c, d, e = 0, 0, 0, 0, 0\n",
    "params = tuple([a, b, c, d, e])\n",
    "res = optimize.minimize(to_min, params, method='Nelder-Mead', tol=1e-6)\n",
    "if(res.success):\n",
    "    a, b, c, d, e = res.x\n",
    "    print(\"a: \" + str(a))\n",
    "    print(\"b: \" + str(b))\n",
    "    print(\"c: \" + str(c))\n",
    "    print(\"d: \" + str(d))\n",
    "    print(\"e: \" + str(e))\n",
    "else:\n",
    "    print(\"Not successful\")"
   ]
  },
  {
   "cell_type": "code",
   "execution_count": null,
   "metadata": {},
   "outputs": [],
   "source": []
  }
 ],
 "metadata": {
  "kernelspec": {
   "display_name": "Python 3 (ipykernel)",
   "language": "python",
   "name": "python3"
  },
  "language_info": {
   "codemirror_mode": {
    "name": "ipython",
    "version": 3
   },
   "file_extension": ".py",
   "mimetype": "text/x-python",
   "name": "python",
   "nbconvert_exporter": "python",
   "pygments_lexer": "ipython3",
   "version": "3.8.12"
  }
 },
 "nbformat": 4,
 "nbformat_minor": 2
}
