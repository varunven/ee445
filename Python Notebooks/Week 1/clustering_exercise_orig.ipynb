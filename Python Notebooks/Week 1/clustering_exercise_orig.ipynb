{
 "cells": [
  {
   "cell_type": "code",
   "execution_count": 1,
   "metadata": {},
   "outputs": [],
   "source": [
    "import numpy as np\n",
    "import matplotlib.pyplot as plt\n",
    "import random\n",
    "import ipdb"
   ]
  },
  {
   "cell_type": "markdown",
   "metadata": {},
   "source": [
    "## Synthetic Data: Parts (a) and (b)"
   ]
  },
  {
   "cell_type": "markdown",
   "metadata": {},
   "source": [
    "(a) Using the python numpy.random package, sample 100 points in $\\mathbb{R}^2$ from a normal distribution\n",
    "centered at (0, 0) with standard deviation 0.3."
   ]
  },
  {
   "cell_type": "code",
   "execution_count": 5,
   "metadata": {},
   "outputs": [],
   "source": [
    "#TODO: PART A"
   ]
  },
  {
   "cell_type": "markdown",
   "metadata": {},
   "source": [
    "(b) Repeat the above with centers at (1, 1) and (−1, 1) and same standard deviation as above.\n",
    "Collect all 300 points together into a list called X"
   ]
  },
  {
   "cell_type": "code",
   "execution_count": 1,
   "metadata": {},
   "outputs": [],
   "source": [
    "#TODO: PART B"
   ]
  },
  {
   "cell_type": "markdown",
   "metadata": {},
   "source": [
    "## Lloyd's Algorithm: Parts (c) and (d)"
   ]
  },
  {
   "cell_type": "markdown",
   "metadata": {},
   "source": [
    "(c) Given a list of vectors data and a list of k centroids centroids, write a function group_assignment()\n",
    "that assigns each vector to the centroid closest to it."
   ]
  },
  {
   "cell_type": "code",
   "execution_count": null,
   "metadata": {},
   "outputs": [],
   "source": [
    "\"\"\"\n",
    "The function below returns\n",
    "\n",
    "grouping_vec_c: The grouping of each data point in data to single representative centroid.\n",
    "\n",
    "This is a list of integers of the same length as data. Each element of the list contains the\n",
    "index of the chosen centroid for the corresponding data point.\n",
    "\"\"\"\n",
    "\n",
    "def group_assignment(data,centroids):\n",
    "    #TODO: PART C\n",
    "    return grouping_vec_c"
   ]
  },
  {
   "cell_type": "code",
   "execution_count": null,
   "metadata": {},
   "outputs": [],
   "source": [
    "def update_centroid(data, grouping, centroids):\n",
    "    new_centroids = [];\n",
    "    for i in range(len(centroids)):\n",
    "        cent = np.zeros(len(data[0]))\n",
    "        count = 0\n",
    "        for j in range(len(data)):\n",
    "            if grouping[j] == (i+1):\n",
    "                cent = cent+data[j]\n",
    "                count += 1\n",
    "        group_average = cent/count\n",
    "        new_centroids.append(group_average)\n",
    "    return new_centroids\n",
    "\n",
    "def clustering_objective(data, grouping, centroids):\n",
    "    J_obj = 0\n",
    "    for i in range(len(data)):\n",
    "        for j in range(len(centroids)):\n",
    "            if grouping[i] == (j+1):\n",
    "                J_obj += np.linalg.norm(data[i] - centroids[j])**2\n",
    "    \n",
    "    \n",
    "    J_obj = J_obj/len(data)\n",
    "    return J_obj"
   ]
  },
  {
   "cell_type": "markdown",
   "metadata": {},
   "source": [
    "(d) Using the provided functions update_centroid() and clustering_objective(), implement\n",
    "the k-means algorithm which terminates when distance the chosen centroids at successive\n",
    "iterations is less than $10^{−6}$."
   ]
  },
  {
   "cell_type": "code",
   "execution_count": 1,
   "metadata": {},
   "outputs": [],
   "source": [
    "\"\"\"\n",
    "Runs LLoyd's algorithm until termination. Return the following\n",
    "\n",
    "new_centroids: the centroids chosen at the end of the algorithm\n",
    "grouping: the grouping of each of the data points\n",
    "J_obj_vector: a record of the clustering objective at each iteration\n",
    "iteration: total number of iterations run by the algorithm\n",
    "\"\"\"\n",
    "\n",
    "def Kmeans_alg(data, centroids):\n",
    "    #TODO: PART D\n",
    "    return new_centroids, grouping, J_obj_vector, iteration"
   ]
  },
  {
   "cell_type": "markdown",
   "metadata": {},
   "source": [
    "## Run LLoyd's algorithm and visualize clusters"
   ]
  },
  {
   "cell_type": "code",
   "execution_count": 7,
   "metadata": {},
   "outputs": [],
   "source": [
    "k = 3\n",
    "num_points = len(X)\n",
    "random_idxs = random.sample(range(num_points), k)\n",
    "centroids = X[random_idxs]"
   ]
  },
  {
   "cell_type": "code",
   "execution_count": 9,
   "metadata": {},
   "outputs": [],
   "source": [
    "new_centroids, grouping, J_obj_vector, iteration = Kmeans_alg(X, centroids)"
   ]
  },
  {
   "cell_type": "code",
   "execution_count": 21,
   "metadata": {},
   "outputs": [
    {
     "data": {
      "text/plain": [
       "Text(0.5, 1.0, 'Illustration of kmeans on synthetic data')"
      ]
     },
     "execution_count": 21,
     "metadata": {},
     "output_type": "execute_result"
    },
    {
     "data": {
      "image/png": "[encoded data removed]",
      "text/plain": [
       "<Figure size 432x288 with 1 Axes>"
      ]
     },
     "metadata": {
      "needs_background": "light"
     },
     "output_type": "display_data"
    }
   ],
   "source": [
    "grouping = np.array([np.int(e) for e in grouping])\n",
    "grps = [[X[i,:] for i in range(300) if grouping[i]==j] for j in range(1,4)]\n",
    "plt.scatter([c[0] for c in grps[0]],[c[1] for c in grps[0]])\n",
    "plt.scatter([c[0] for c in grps[1]],[c[1] for c in grps[1]])\n",
    "plt.scatter([c[0] for c in grps[2]],[c[1] for c in grps[2]])\n",
    "\n",
    "plt.title(\"Illustration of kmeans on synthetic data\")"
   ]
  },
  {
   "cell_type": "code",
   "execution_count": null,
   "metadata": {},
   "outputs": [],
   "source": []
  }
 ],
 "metadata": {
  "kernelspec": {
   "display_name": "Python 3 (ipykernel)",
   "language": "python",
   "name": "python3"
  },
  "language_info": {
   "codemirror_mode": {
    "name": "ipython",
    "version": 3
   },
   "file_extension": ".py",
   "mimetype": "text/x-python",
   "name": "python",
   "nbconvert_exporter": "python",
   "pygments_lexer": "ipython3",
   "version": "3.8.12"
  }
 },
 "nbformat": 4,
 "nbformat_minor": 2
}
